{
 "cells": [
  {
   "cell_type": "code",
   "execution_count": 34,
   "metadata": {},
   "outputs": [],
   "source": [
    "from bs4 import BeautifulSoup\n",
    "from urllib.request import urlopen\n",
    "import pandas as pd"
   ]
  },
  {
   "cell_type": "code",
   "execution_count": 64,
   "metadata": {},
   "outputs": [],
   "source": [
    "stateID = {'Arkansas':['05','AR'], 'California':['06','CA'], 'Illinois':['17','IL'], 'Kansas':['20','KS'], 'Mississippi':['28','MS'], 'Ohio':['39','OH'], \n",
    "           'Texas':['48','TX'], 'Alabama':['01','AL'], 'Iowa':['19','IA'], 'Louisiana':['22','LA'],'Minnesota':['27','MN'], 'Missouri':['9','MO'], \n",
    "           'Nebraska':['31','NE'], 'Arizona':['04','AZ'], 'Colorado':['08','CO'], 'Indiana':['18','IN'], 'Michigan':['26','MI'],\n",
    "           'Montana':['30','MT'], 'New York':['36','NY'], 'Oregon':['41','OR'], 'Virginia':['51','VA'], 'Wyoming':['56','WY'],'North Carolina':['37','NC'], \n",
    "           'Oklahoma':['40','OK'], 'Tennessee':['47','TN'], 'Wisconsin':['55','WI'], 'Alaska':['02','AK'], 'Vermont':['50','VT'], 'North Dakota':['38','ND'],\n",
    "           'Georgia':['13','GA'], 'Maine':['23','ME'], 'Rhode Island':['44','RI'], 'West Virginia':['54','WV'], 'Idaho':['16','ID'],'South Dakota':['46','SD'],\n",
    "           'New Mexico':['35','NM'], 'Washington':['53','WA'], 'Pennsylvania':['42','PA'], 'Florida':['12','FL'], 'Utah':['49','UT'], 'Kentucky':['21','KY'],\n",
    "           'New Hampshire':['33','NH'], 'South Carolina':['45','SC'], 'Nevada':['32','NV'], 'Hawaii':['15','HI'], 'New Jersey':['34','NJ'],'Connecticut':['09','CT']\n",
    "           , 'Maryland':['24','MD'], 'Massachusetts':['25','MA'], 'Delaware':['10','DE'], 'District of Columbia':['11','DC']}\n"
   ]
  },
  {
   "cell_type": "code",
   "execution_count": 93,
   "metadata": {},
   "outputs": [],
   "source": [
    "def statescrape(state, stateID):\n",
    "\n",
    "    source = 'https://www.census.gov/quickfacts/fact/table/' + str(state)+ '/PST045218'\n",
    "    html = urlopen(source)\n",
    "    soup = BeautifulSoup(html, 'html.parser')\n",
    "\n",
    "    fulllist = []\n",
    "\n",
    "    for i in soup.find_all('td'):\n",
    "    \n",
    "        fulllist.append(i.text)\n",
    "     \n",
    "    headinglist = []\n",
    "    datalist = []\n",
    "\n",
    "    for i in range(len(fulllist)):\n",
    "        if i%2 == 0:\n",
    "        \n",
    "            x = fulllist[i].strip('\\n')\n",
    "            formatted = x.strip('\\ue840\\ue83f\\n')\n",
    "            headinglist.append(formatted)\n",
    "        \n",
    "        else:\n",
    "        \n",
    "            x = fulllist[i].strip('\\n')\n",
    "            formatted = x.strip('\\ue840\\ue83f\\n') \n",
    "            datalist.append(formatted)    \n",
    "\n",
    "    truedict = dict(zip(headinglist, datalist))  \n",
    "    truedict['State'] = state\n",
    "    truedict['StateID'] = stateID\n",
    "    onestatedf = pd.DataFrame(truedict, index =[0])\n",
    "    \n",
    "    return onestatedf"
   ]
  },
  {
   "cell_type": "code",
   "execution_count": 107,
   "metadata": {},
   "outputs": [
    {
     "name": "stdout",
     "output_type": "stream",
     "text": [
      "1 Arkansas ['05', 'AR']\n",
      "2 California ['06', 'CA']\n",
      "3 Illinois ['17', 'IL']\n",
      "4 Kansas ['20', 'KS']\n",
      "5 Mississippi ['28', 'MS']\n",
      "6 Ohio ['39', 'OH']\n",
      "7 Texas ['48', 'TX']\n",
      "8 Alabama ['01', 'AL']\n",
      "9 Iowa ['19', 'IA']\n",
      "10 Louisiana ['22', 'LA']\n",
      "11 Minnesota ['27', 'MN']\n",
      "12 Missouri ['9', 'MO']\n",
      "13 Nebraska ['31', 'NE']\n",
      "14 Arizona ['04', 'AZ']\n",
      "15 Colorado ['08', 'CO']\n",
      "16 Indiana ['18', 'IN']\n",
      "17 Michigan ['26', 'MI']\n",
      "18 Montana ['30', 'MT']\n",
      "19 New York ['36', 'NY']\n",
      "20 Oregon ['41', 'OR']\n",
      "21 Virginia ['51', 'VA']\n",
      "22 Wyoming ['56', 'WY']\n",
      "23 North Carolina ['37', 'NC']\n",
      "24 Oklahoma ['40', 'OK']\n",
      "25 Tennessee ['47', 'TN']\n",
      "26 Wisconsin ['55', 'WI']\n",
      "27 Alaska ['02', 'AK']\n",
      "28 Vermont ['50', 'VT']\n",
      "29 North Dakota ['38', 'ND']\n",
      "30 Georgia ['13', 'GA']\n",
      "31 Maine ['23', 'ME']\n",
      "32 Rhode Island ['44', 'RI']\n",
      "33 West Virginia ['54', 'WV']\n",
      "34 Idaho ['16', 'ID']\n",
      "35 South Dakota ['46', 'SD']\n",
      "36 New Mexico ['35', 'NM']\n",
      "37 Washington ['53', 'WA']\n",
      "38 Pennsylvania ['42', 'PA']\n",
      "39 Florida ['12', 'FL']\n",
      "40 Utah ['49', 'UT']\n",
      "41 Kentucky ['21', 'KY']\n",
      "42 New Hampshire ['33', 'NH']\n",
      "43 South Carolina ['45', 'SC']\n",
      "44 Nevada ['32', 'NV']\n",
      "45 Hawaii ['15', 'HI']\n",
      "46 New Jersey ['34', 'NJ']\n",
      "47 Connecticut ['09', 'CT']\n",
      "48 Maryland ['24', 'MD']\n",
      "49 Massachusetts ['25', 'MA']\n",
      "50 Delaware ['10', 'DE']\n",
      "51 District of Columbia ['11', 'DC']\n"
     ]
    }
   ],
   "source": [
    "dflist = []\n",
    "count = 1\n",
    "for key, value in stateID.items():\n",
    "    \n",
    "    print(count, key, value)\n",
    "    \n",
    "    statescrape(value[1], value[0])\n",
    "    \n",
    "    dflist.append(statescrape(value[1], value[0]))\n",
    "    count +=1"
   ]
  },
  {
   "cell_type": "code",
   "execution_count": null,
   "metadata": {},
   "outputs": [],
   "source": [
    "#to see the output, type dflist[] with the number above. It will be a pandas dataframe. "
   ]
  },
  {
   "cell_type": "code",
   "execution_count": null,
   "metadata": {},
   "outputs": [],
   "source": []
  },
  {
   "cell_type": "code",
   "execution_count": null,
   "metadata": {},
   "outputs": [],
   "source": []
  }
 ],
 "metadata": {
  "kernelspec": {
   "display_name": "Python 3",
   "language": "python",
   "name": "python3"
  },
  "language_info": {
   "codemirror_mode": {
    "name": "ipython",
    "version": 3
   },
   "file_extension": ".py",
   "mimetype": "text/x-python",
   "name": "python",
   "nbconvert_exporter": "python",
   "pygments_lexer": "ipython3",
   "version": "3.6.5"
  }
 },
 "nbformat": 4,
 "nbformat_minor": 2
}
